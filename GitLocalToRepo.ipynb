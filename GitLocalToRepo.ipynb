{
 "cells": [
  {
   "cell_type": "markdown",
   "id": "0819696a-4f74-4298-9adc-a9daee2b56e7",
   "metadata": {},
   "source": [
    "### https://www.google.com/search?q=error:+src+refspec+main+does+not+match+any&client=firefox-b-d&sca_esv=6e9fac9f4dc5cc4b&ei=IggFaLOvFIiExc8P5qPWIQ&start=10&sa=N&sstk=Af40H4VSbip1-2vf_0qCn-DD2P66XtFR7deHPDPGT_bpMbAFZzTRoOlpL6IAyNTPXPsUf7dNsebhxHtRzzKb3z8VbxMD_1QRq_8x1g&ved=2ahUKEwizyPe67OaMAxUIQvEDHeaRNQQQ8tMDegQICRAE&biw=1707&bih=827&dpr=1.5\n",
    "\n",
    "### https://medium.com/@python-javascript-php-html-css/how-to-solve-the-refspec-master-error-on-github-d01ed41125c8"
   ]
  },
  {
   "cell_type": "code",
   "execution_count": 1,
   "id": "b6aa3558-8c41-4a70-908e-acec7b963b5f",
   "metadata": {},
   "outputs": [],
   "source": [
    "import os"
   ]
  },
  {
   "cell_type": "code",
   "execution_count": 2,
   "id": "fbec5fce-d8b7-4201-8517-478c2148bea3",
   "metadata": {},
   "outputs": [
    {
     "data": {
      "text/plain": [
       "128"
      ]
     },
     "execution_count": 2,
     "metadata": {},
     "output_type": "execute_result"
    }
   ],
   "source": [
    "# Define the repository path\n",
    "repo_path = \"IPYNBgesamt2025/GitPush/ProbaGit\"# Change the current working directory\n",
    "os.chdir(repo_path)# Check current branches\n",
    "#os.system(\"git branch -a\")# Create and checkout master branch\n",
    "#os.system(\"git checkout -b master\")# Add all changes\n",
    "os.system(\"git add .\")# Commit changes\n",
    "os.system('git commit -m \"Initial commit\"')# Push changes to the origin\n",
    "os.system(\"git push origin master\")"
   ]
  },
  {
   "cell_type": "code",
   "execution_count": 2,
   "id": "a2225522-97de-4b15-a0ad-4579a84331e2",
   "metadata": {},
   "outputs": [
    {
     "data": {
      "text/plain": [
       "0"
      ]
     },
     "execution_count": 2,
     "metadata": {},
     "output_type": "execute_result"
    }
   ],
   "source": [
    "import os\n",
    "repo_path = \"C:/IPYNBgesamt2025/GitPush/ProbaGit\"# Change the current working directory\n",
    "os.chdir(repo_path)# Check current branches\n",
    "os.system(\"git add NNZRZ.pdf\")# Commit changes\n",
    "os.system('git commit -m \"Initial commit\"')# Push changes to the origin\n",
    "os.system(\"git branch -M main\")\n",
    "os.system(\"git push -u origin main\")\n",
    "git log\n"
   ]
  },
  {
   "cell_type": "code",
   "execution_count": 4,
   "id": "ae4171eb-107c-4971-b56f-87fda117a55e",
   "metadata": {},
   "outputs": [
    {
     "name": "stdout",
     "output_type": "stream",
     "text": [
      "0\n"
     ]
    }
   ],
   "source": [
    "rc=os.system(\"git log\")\n",
    "print (os.system(\"git log\"))"
   ]
  },
  {
   "cell_type": "code",
   "execution_count": null,
   "id": "37706c17-08bb-4335-8bfd-bd460c0dee7e",
   "metadata": {},
   "outputs": [],
   "source": []
  }
 ],
 "metadata": {
  "kernelspec": {
   "display_name": "Python 3 (ipykernel)",
   "language": "python",
   "name": "python3"
  },
  "language_info": {
   "codemirror_mode": {
    "name": "ipython",
    "version": 3
   },
   "file_extension": ".py",
   "mimetype": "text/x-python",
   "name": "python",
   "nbconvert_exporter": "python",
   "pygments_lexer": "ipython3",
   "version": "3.11.3"
  }
 },
 "nbformat": 4,
 "nbformat_minor": 5
}
